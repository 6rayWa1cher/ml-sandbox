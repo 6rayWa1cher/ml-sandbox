{
 "cells": [
  {
   "cell_type": "code",
   "execution_count": 28,
   "metadata": {
    "collapsed": true,
    "ExecuteTime": {
     "end_time": "2023-04-30T20:01:48.739857100Z",
     "start_time": "2023-04-30T20:01:48.736135900Z"
    }
   },
   "outputs": [],
   "source": [
    "import tensorflow as tf\n",
    "import pandas as pd\n",
    "import numpy as np\n",
    "from keras.applications.densenet import layers\n",
    "from matplotlib import pyplot as plt"
   ]
  },
  {
   "cell_type": "code",
   "execution_count": 29,
   "outputs": [],
   "source": [
    "np.set_printoptions(precision=3, suppress=True)"
   ],
   "metadata": {
    "collapsed": false,
    "ExecuteTime": {
     "end_time": "2023-04-30T20:01:48.745221500Z",
     "start_time": "2023-04-30T20:01:48.738843800Z"
    }
   }
  },
  {
   "cell_type": "code",
   "execution_count": 30,
   "outputs": [
    {
     "data": {
      "text/plain": "<_PrefetchDataset element_spec=(OrderedDict([('Pregnancies', TensorSpec(shape=(None,), dtype=tf.int32, name=None)), ('Glucose', TensorSpec(shape=(None,), dtype=tf.int32, name=None)), ('BloodPressure', TensorSpec(shape=(None,), dtype=tf.int32, name=None)), ('SkinThickness', TensorSpec(shape=(None,), dtype=tf.int32, name=None)), ('Insulin', TensorSpec(shape=(None,), dtype=tf.int32, name=None)), ('BMI', TensorSpec(shape=(None,), dtype=tf.float32, name=None)), ('DiabetesPedigreeFunction', TensorSpec(shape=(None,), dtype=tf.float32, name=None)), ('Age', TensorSpec(shape=(None,), dtype=tf.int32, name=None))]), TensorSpec(shape=(None,), dtype=tf.int32, name=None))>"
     },
     "execution_count": 30,
     "metadata": {},
     "output_type": "execute_result"
    }
   ],
   "source": [
    "# diabetes_data = pd.read_csv(\n",
    "#     \"../models/diabetes.csv\",\n",
    "#     names=[\"Pregnancies\", \"Glucose\", \"BloodPressure\", \"SkinThickness\", \"Insulin\",\n",
    "#            \"BMI\", \"DiabetesPedigreeFunction\", \"Age\", \"Outcome\"], sep=',', header=0)\n",
    "diabetes_dataset = tf.data.experimental.make_csv_dataset(\n",
    "    \"../models/diabetes.csv\",\n",
    "    batch_size=5,\n",
    "    label_name=\"Outcome\",\n",
    "    num_epochs=1,\n",
    "    ignore_errors=True\n",
    ")\n",
    "# def features_and_labels(features, labels):\n",
    "#     features = tf.stack(list(map(lambda x : tf.cast(x, tf.float32), features.values())), axis=1)\n",
    "#     return features, labels\n",
    "#\n",
    "# diabetes_dataset = diabetes_dataset.map(features_and_labels)\n",
    "# diabetes_features = diabetes_data.copy()\n",
    "# diabetes_labels = diabetes_features.pop('Outcome')\n",
    "\n",
    "# x_train, x_test, y_train, y_test = train_test_split(x, y, test_size=0.25)\n",
    "diabetes_dataset"
   ],
   "metadata": {
    "collapsed": false,
    "ExecuteTime": {
     "end_time": "2023-04-30T20:01:48.777964600Z",
     "start_time": "2023-04-30T20:01:48.746252500Z"
    }
   }
  },
  {
   "cell_type": "code",
   "execution_count": 31,
   "outputs": [
    {
     "ename": "TypeError",
     "evalue": "Dimension value must be integer or None or have an __index__ method, got value ''Pregnancies'' with type '<class 'str'>'",
     "output_type": "error",
     "traceback": [
      "\u001B[1;31m---------------------------------------------------------------------------\u001B[0m",
      "\u001B[1;31mTypeError\u001B[0m                                 Traceback (most recent call last)",
      "Cell \u001B[1;32mIn[31], line 1\u001B[0m\n\u001B[1;32m----> 1\u001B[0m \u001B[38;5;28minput\u001B[39m \u001B[38;5;241m=\u001B[39m \u001B[43mtf\u001B[49m\u001B[38;5;241;43m.\u001B[39;49m\u001B[43mkeras\u001B[49m\u001B[38;5;241;43m.\u001B[39;49m\u001B[43mInput\u001B[49m\u001B[43m(\u001B[49m\u001B[43mshape\u001B[49m\u001B[38;5;241;43m=\u001B[39;49m\u001B[38;5;28;43mtuple\u001B[39;49m\u001B[43m(\u001B[49m\u001B[43mdiabetes_dataset\u001B[49m\u001B[38;5;241;43m.\u001B[39;49m\u001B[43melement_spec\u001B[49m\u001B[43m[\u001B[49m\u001B[38;5;241;43m0\u001B[39;49m\u001B[43m]\u001B[49m\u001B[38;5;241;43m.\u001B[39;49m\u001B[43mkeys\u001B[49m\u001B[43m(\u001B[49m\u001B[43m)\u001B[49m\u001B[43m)\u001B[49m\u001B[43m,\u001B[49m\u001B[43m \u001B[49m\u001B[43m)\u001B[49m\n\u001B[0;32m      2\u001B[0m \u001B[38;5;66;03m# normalize = layers.Normalization()\u001B[39;00m\n\u001B[0;32m      3\u001B[0m \u001B[38;5;66;03m# normalize.adapt(diabetes_dataset)\u001B[39;00m\n\u001B[0;32m      4\u001B[0m \u001B[38;5;66;03m# normalize\u001B[39;00m\n\u001B[0;32m      6\u001B[0m model \u001B[38;5;241m=\u001B[39m tf\u001B[38;5;241m.\u001B[39mkeras\u001B[38;5;241m.\u001B[39mSequential([\n\u001B[0;32m      7\u001B[0m     \u001B[38;5;66;03m# normalize,\u001B[39;00m\n\u001B[0;32m      8\u001B[0m     \u001B[38;5;28minput\u001B[39m,\n\u001B[1;32m   (...)\u001B[0m\n\u001B[0;32m     11\u001B[0m     layers\u001B[38;5;241m.\u001B[39mDense(\u001B[38;5;241m1\u001B[39m)\n\u001B[0;32m     12\u001B[0m ])\n",
      "File \u001B[1;32m~\\.virtualenvs\\ml-sandbox-n2kwt1px\\Lib\\site-packages\\keras\\utils\\traceback_utils.py:70\u001B[0m, in \u001B[0;36mfilter_traceback.<locals>.error_handler\u001B[1;34m(*args, **kwargs)\u001B[0m\n\u001B[0;32m     67\u001B[0m     filtered_tb \u001B[38;5;241m=\u001B[39m _process_traceback_frames(e\u001B[38;5;241m.\u001B[39m__traceback__)\n\u001B[0;32m     68\u001B[0m     \u001B[38;5;66;03m# To get the full stack trace, call:\u001B[39;00m\n\u001B[0;32m     69\u001B[0m     \u001B[38;5;66;03m# `tf.debugging.disable_traceback_filtering()`\u001B[39;00m\n\u001B[1;32m---> 70\u001B[0m     \u001B[38;5;28;01mraise\u001B[39;00m e\u001B[38;5;241m.\u001B[39mwith_traceback(filtered_tb) \u001B[38;5;28;01mfrom\u001B[39;00m \u001B[38;5;28;01mNone\u001B[39;00m\n\u001B[0;32m     71\u001B[0m \u001B[38;5;28;01mfinally\u001B[39;00m:\n\u001B[0;32m     72\u001B[0m     \u001B[38;5;28;01mdel\u001B[39;00m filtered_tb\n",
      "File \u001B[1;32m~\\.virtualenvs\\ml-sandbox-n2kwt1px\\Lib\\site-packages\\tensorflow\\python\\framework\\tensor_shape.py:215\u001B[0m, in \u001B[0;36mDimension.__init__\u001B[1;34m(self, value)\u001B[0m\n\u001B[0;32m    213\u001B[0m   \u001B[38;5;28mself\u001B[39m\u001B[38;5;241m.\u001B[39m_value \u001B[38;5;241m=\u001B[39m \u001B[38;5;28mint\u001B[39m(value\u001B[38;5;241m.\u001B[39m\u001B[38;5;21m__index__\u001B[39m())\n\u001B[0;32m    214\u001B[0m \u001B[38;5;28;01mexcept\u001B[39;00m \u001B[38;5;167;01mAttributeError\u001B[39;00m:\n\u001B[1;32m--> 215\u001B[0m   \u001B[38;5;28;01mraise\u001B[39;00m \u001B[38;5;167;01mTypeError\u001B[39;00m(\n\u001B[0;32m    216\u001B[0m       \u001B[38;5;124m\"\u001B[39m\u001B[38;5;124mDimension value must be integer or None or have \u001B[39m\u001B[38;5;124m\"\u001B[39m\n\u001B[0;32m    217\u001B[0m       \u001B[38;5;124m\"\u001B[39m\u001B[38;5;124man __index__ method, got value \u001B[39m\u001B[38;5;124m'\u001B[39m\u001B[38;5;132;01m{0!r}\u001B[39;00m\u001B[38;5;124m'\u001B[39m\u001B[38;5;124m with type \u001B[39m\u001B[38;5;124m'\u001B[39m\u001B[38;5;132;01m{1!r}\u001B[39;00m\u001B[38;5;124m'\u001B[39m\u001B[38;5;124m\"\u001B[39m\u001B[38;5;241m.\u001B[39mformat(\n\u001B[0;32m    218\u001B[0m           value, \u001B[38;5;28mtype\u001B[39m(value))) \u001B[38;5;28;01mfrom\u001B[39;00m \u001B[38;5;28;01mNone\u001B[39;00m\n\u001B[0;32m    219\u001B[0m \u001B[38;5;28;01mif\u001B[39;00m \u001B[38;5;28mself\u001B[39m\u001B[38;5;241m.\u001B[39m_value \u001B[38;5;241m<\u001B[39m \u001B[38;5;241m0\u001B[39m:\n\u001B[0;32m    220\u001B[0m   \u001B[38;5;28;01mraise\u001B[39;00m \u001B[38;5;167;01mValueError\u001B[39;00m(\u001B[38;5;124m\"\u001B[39m\u001B[38;5;124mDimension \u001B[39m\u001B[38;5;132;01m%d\u001B[39;00m\u001B[38;5;124m must be >= 0\u001B[39m\u001B[38;5;124m\"\u001B[39m \u001B[38;5;241m%\u001B[39m \u001B[38;5;28mself\u001B[39m\u001B[38;5;241m.\u001B[39m_value)\n",
      "\u001B[1;31mTypeError\u001B[0m: Dimension value must be integer or None or have an __index__ method, got value ''Pregnancies'' with type '<class 'str'>'"
     ]
    }
   ],
   "source": [
    "input = tf.keras.Input(shape=tuple(diabetes_dataset.element_spec[0].keys()), )\n",
    "# normalize = layers.Normalization()\n",
    "# normalize.adapt(diabetes_dataset)\n",
    "# normalize\n",
    "\n",
    "model = tf.keras.Sequential([\n",
    "    # normalize,\n",
    "    input,\n",
    "    layers.Flatten(),\n",
    "    layers.Dense(64),\n",
    "    layers.Dense(1)\n",
    "])\n",
    "\n",
    "model.compile(loss='mse', optimizer='adam', metrics=['accuracy'])"
   ],
   "metadata": {
    "collapsed": false,
    "ExecuteTime": {
     "end_time": "2023-04-30T20:01:48.809494300Z",
     "start_time": "2023-04-30T20:01:48.791041100Z"
    }
   }
  },
  {
   "cell_type": "code",
   "execution_count": null,
   "outputs": [],
   "source": [
    "history = model.fit(diabetes_dataset, epochs=10)\n",
    "model.summary()"
   ],
   "metadata": {
    "collapsed": false
   }
  },
  {
   "cell_type": "code",
   "execution_count": null,
   "outputs": [],
   "source": [
    "pd.DataFrame(history.history).plot(figsize=(8,5))\n",
    "plt.show()"
   ],
   "metadata": {
    "collapsed": false
   }
  }
 ],
 "metadata": {
  "kernelspec": {
   "display_name": "Python 3",
   "language": "python",
   "name": "python3"
  },
  "language_info": {
   "codemirror_mode": {
    "name": "ipython",
    "version": 2
   },
   "file_extension": ".py",
   "mimetype": "text/x-python",
   "name": "python",
   "nbconvert_exporter": "python",
   "pygments_lexer": "ipython2",
   "version": "2.7.6"
  }
 },
 "nbformat": 4,
 "nbformat_minor": 0
}
