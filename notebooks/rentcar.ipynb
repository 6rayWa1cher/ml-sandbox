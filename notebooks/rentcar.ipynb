{
 "cells": [
  {
   "cell_type": "code",
   "execution_count": 1,
   "metadata": {
    "ExecuteTime": {
     "end_time": "2023-04-09T00:53:04.060932Z",
     "start_time": "2023-04-09T00:53:03.409197Z"
    }
   },
   "outputs": [],
   "source": [
    "import itertools\n",
    "import math\n",
    "from dataclasses import dataclass\n",
    "import matplotlib.pyplot as plt\n",
    "import numpy as np\n",
    "from matplotlib import gridspec\n",
    "from scipy.stats import poisson\n",
    "from functools import lru_cache\n",
    "from tqdm.notebook import trange, tqdm"
   ]
  },
  {
   "cell_type": "code",
   "execution_count": 2,
   "metadata": {
    "ExecuteTime": {
     "end_time": "2023-04-09T00:53:04.078354Z",
     "start_time": "2023-04-09T00:53:04.074270Z"
    }
   },
   "outputs": [],
   "source": [
    "@lru_cache(maxsize=None)\n",
    "def p_pmf(x, mu):\n",
    "    return poisson.pmf(x, mu)\n",
    "\n",
    "\n",
    "@lru_cache(maxsize=None)\n",
    "def alpha_level(mu, epsilon):\n",
    "    left, right = 0, 0\n",
    "    iterator = itertools.count()\n",
    "    for x in iterator:\n",
    "        y = p_pmf(x, mu)\n",
    "        if y >= epsilon:\n",
    "            left = x\n",
    "            break\n",
    "    for x in iterator:\n",
    "        y = p_pmf(x, mu)\n",
    "        if y < epsilon:\n",
    "            right = x\n",
    "            break\n",
    "    return left, right\n",
    "\n",
    "\n",
    "def segment(start, stop, step=1):\n",
    "    return range(start, stop + 1, step)\n",
    "\n",
    "\n",
    "def apply_action(state, action):\n",
    "    first, second = state\n",
    "    return first - action, second + action\n",
    "\n",
    "\n",
    "def clip(v, from_v, to_v):\n",
    "    return max(from_v, min(to_v, v))\n",
    "\n",
    "\n",
    "@dataclass\n",
    "class PickUpPoint:\n",
    "    issuance_mu: int\n",
    "    returns_mu: int\n",
    "    max_cars: int\n",
    "    cost_of_parking_space: float\n",
    "\n",
    "\n",
    "@dataclass\n",
    "class JackCarRental:\n",
    "    first_pickup: PickUpPoint\n",
    "    second_pickup: PickUpPoint\n",
    "    point_to_point_movement_cost: float\n",
    "    point_to_point_movement_max_cars: int\n",
    "    first_to_second_free_movement = 0\n",
    "    second_to_first_free_movement = 0\n",
    "    rent_prize: float\n",
    "    theta = 65\n",
    "    theta_degrade = 0.5\n",
    "    epsilon = 0.01\n",
    "    gamma = 0.9\n",
    "\n",
    "    def iterate_states(self):\n",
    "        out = list()\n",
    "        for i in segment(0, self.first_pickup.max_cars):\n",
    "            for j in segment(0, self.second_pickup.max_cars):\n",
    "                out.append((i, j))\n",
    "        return tuple(out)\n",
    "\n",
    "    def iterate_actions(self, state):\n",
    "        d = self.point_to_point_movement_max_cars\n",
    "        out = list()\n",
    "        for i in segment(-d, d):\n",
    "            first, second = apply_action(state, i)\n",
    "            if 0 <= first <= self.first_pickup.max_cars and \\\n",
    "                    0 <= second <= self.second_pickup.max_cars:\n",
    "                out.append(i)\n",
    "        return out\n",
    "\n",
    "    def action_cost(self, action):\n",
    "        free_first_to_second = self.first_to_second_free_movement\n",
    "        free_second_to_first = self.second_to_first_free_movement\n",
    "        free_ride = free_first_to_second if action >= 0 else free_second_to_first\n",
    "\n",
    "        return max(abs(action) - free_ride, 0) * self.point_to_point_movement_cost\n",
    "\n",
    "    def get_tax(self, state):\n",
    "        first, second = state\n",
    "        return self.first_pickup.cost_of_parking_space * first + self.second_pickup.cost_of_parking_space * second\n",
    "\n",
    "    def action_evaluation(self, state, action, values):\n",
    "        balance = 0\n",
    "\n",
    "        balance += self.action_cost(action)\n",
    "\n",
    "        first, second = apply_action(state, action)\n",
    "\n",
    "        balance += self.get_tax((first, second))\n",
    "\n",
    "        for first_cars_issued in segment(*alpha_level(self.first_pickup.issuance_mu, self.epsilon)):\n",
    "            for first_cars_returned in segment(*alpha_level(self.first_pickup.returns_mu, self.epsilon)):\n",
    "                for second_cars_issued in segment(*alpha_level(self.second_pickup.issuance_mu, self.epsilon)):\n",
    "                    for second_cars_returned in segment(*alpha_level(self.second_pickup.returns_mu, self.epsilon)):\n",
    "                        first_actually_issued, second_actually_issued = \\\n",
    "                            min(first, first_cars_issued), min(second, second_cars_issued)\n",
    "\n",
    "                        new_state = \\\n",
    "                            min(first - first_actually_issued + first_cars_returned, self.first_pickup.max_cars), \\\n",
    "                                min(second - second_actually_issued + second_cars_returned, self.second_pickup.max_cars)\n",
    "\n",
    "                        income = (first_actually_issued + second_actually_issued) * self.rent_prize\n",
    "                        probability = \\\n",
    "                            p_pmf(first_cars_issued, self.first_pickup.issuance_mu) * \\\n",
    "                            p_pmf(first_cars_returned, self.first_pickup.returns_mu) * \\\n",
    "                            p_pmf(second_cars_issued, self.second_pickup.issuance_mu) * \\\n",
    "                            p_pmf(second_cars_returned, self.second_pickup.returns_mu)\n",
    "                        balance += probability * (income + self.gamma * values[new_state])\n",
    "        return balance\n",
    "\n",
    "    def strategy_evaluation(self, values, strategy, curr_theta, i=0):\n",
    "        t = tqdm(desc=f\"{i}:strategy_evaluation\")\n",
    "        while True:\n",
    "            new_values = np.zeros_like(values)\n",
    "            delta = 0\n",
    "            for s in self.iterate_states():\n",
    "                new_values[s] = self.action_evaluation(s, strategy[s], values)\n",
    "                delta = max(delta, abs(values[s] - new_values[s]))\n",
    "            values = new_values\n",
    "            if delta < curr_theta:\n",
    "                break\n",
    "            t.update()\n",
    "        t.close()\n",
    "        return new_values\n",
    "\n",
    "    def strategy_improvement(self, values, old_strategy, i=0):\n",
    "        policy_stable = True\n",
    "        new_strategy = np.zeros_like(old_strategy)\n",
    "        for s in tqdm(self.iterate_states(), desc=f\"{i}:strategy_improvement\"):\n",
    "            old_action = old_strategy[s]\n",
    "\n",
    "            new_action = old_action\n",
    "            new_action_balance = 0\n",
    "            for a in self.iterate_actions(s):\n",
    "                b = self.action_evaluation(s, a, values)\n",
    "                if b > new_action_balance:\n",
    "                    new_action_balance = b\n",
    "                    new_action = a\n",
    "\n",
    "            new_strategy[s] = new_action\n",
    "\n",
    "            if old_action != new_action:\n",
    "                policy_stable = False\n",
    "        return new_strategy, policy_stable\n",
    "\n",
    "    def get_optimal_jack_strategy(self):\n",
    "        shape = self.first_pickup.max_cars + 1, self.second_pickup.max_cars + 1\n",
    "        values = np.zeros(shape)\n",
    "        strategy = np.zeros(shape, dtype=int)\n",
    "        strategy_history = [strategy]\n",
    "        curr_theta = self.theta\n",
    "        t = tqdm(desc=\"optimal_jack_strategy\")\n",
    "        for i in itertools.count(1):\n",
    "            values = self.strategy_evaluation(values, strategy, curr_theta, i)\n",
    "            strategy, policy_stable = self.strategy_improvement(values, strategy, i)\n",
    "            strategy_history.append(strategy)\n",
    "            curr_theta *= self.theta_degrade\n",
    "            if policy_stable:\n",
    "                break\n",
    "            t.update()\n",
    "        t.close()\n",
    "        return values, strategy, strategy_history\n"
   ]
  },
  {
   "cell_type": "code",
   "execution_count": 3,
   "metadata": {
    "ExecuteTime": {
     "end_time": "2023-04-09T00:53:04.081983Z",
     "start_time": "2023-04-09T00:53:04.077338Z"
    }
   },
   "outputs": [],
   "source": [
    "def plot_grid(items, cols=3):\n",
    "    n = len(items)\n",
    "    rows = int(math.ceil(n / cols))\n",
    "    gs = gridspec.GridSpec(rows, cols)\n",
    "    fig = plt.figure()\n",
    "    for i, item in enumerate(items):\n",
    "        ax = fig.add_subplot(gs[i])\n",
    "        ax.imshow(item, cmap='viridis', vmin=-5, vmax=5, origin='lower')\n",
    "    fig.tight_layout()\n",
    "    plt.show()\n",
    "    plt.imshow(items[-1], cmap='viridis', vmin=-5, vmax=5, origin='lower')\n",
    "    plt.colorbar()\n",
    "    plt.show()"
   ]
  },
  {
   "cell_type": "code",
   "execution_count": 4,
   "metadata": {
    "ExecuteTime": {
     "end_time": "2023-04-09T00:57:45.477222Z",
     "start_time": "2023-04-09T00:53:04.082979Z"
    }
   },
   "outputs": [
    {
     "data": {
      "application/vnd.jupyter.widget-view+json": {
       "model_id": "7f3688fdfcbd47439bf6cacb9a636b19",
       "version_major": 2,
       "version_minor": 0
      },
      "text/plain": [
       "optimal_jack_strategy: 0it [00:00, ?it/s]"
      ]
     },
     "metadata": {},
     "output_type": "display_data"
    },
    {
     "data": {
      "application/vnd.jupyter.widget-view+json": {
       "model_id": "29022c8534444244ab0fea57f4196484",
       "version_major": 2,
       "version_minor": 0
      },
      "text/plain": [
       "1:strategy_evaluation: 0it [00:00, ?it/s]"
      ]
     },
     "metadata": {},
     "output_type": "display_data"
    },
    {
     "data": {
      "application/vnd.jupyter.widget-view+json": {
       "model_id": "6547bfb0c9e84d0eb03cba51c14e9deb",
       "version_major": 2,
       "version_minor": 0
      },
      "text/plain": [
       "1:strategy_improvement:   0%|          | 0/441 [00:00<?, ?it/s]"
      ]
     },
     "metadata": {},
     "output_type": "display_data"
    },
    {
     "data": {
      "application/vnd.jupyter.widget-view+json": {
       "model_id": "ca5b767b4b734c81858d404513dae51b",
       "version_major": 2,
       "version_minor": 0
      },
      "text/plain": [
       "2:strategy_evaluation: 0it [00:00, ?it/s]"
      ]
     },
     "metadata": {},
     "output_type": "display_data"
    },
    {
     "data": {
      "application/vnd.jupyter.widget-view+json": {
       "model_id": "fb843102dec34efdbfc1982b0eb69a34",
       "version_major": 2,
       "version_minor": 0
      },
      "text/plain": [
       "2:strategy_improvement:   0%|          | 0/441 [00:00<?, ?it/s]"
      ]
     },
     "metadata": {},
     "output_type": "display_data"
    },
    {
     "data": {
      "application/vnd.jupyter.widget-view+json": {
       "model_id": "a00aa5c6ae8f4dd0873f4dc08cd98e27",
       "version_major": 2,
       "version_minor": 0
      },
      "text/plain": [
       "3:strategy_evaluation: 0it [00:00, ?it/s]"
      ]
     },
     "metadata": {},
     "output_type": "display_data"
    },
    {
     "data": {
      "application/vnd.jupyter.widget-view+json": {
       "model_id": "7a73acb5bba44a0993c3593a6c3df958",
       "version_major": 2,
       "version_minor": 0
      },
      "text/plain": [
       "3:strategy_improvement:   0%|          | 0/441 [00:00<?, ?it/s]"
      ]
     },
     "metadata": {},
     "output_type": "display_data"
    },
    {
     "data": {
      "application/vnd.jupyter.widget-view+json": {
       "model_id": "f5eb9da32b634aa68f32426b5250951a",
       "version_major": 2,
       "version_minor": 0
      },
      "text/plain": [
       "4:strategy_evaluation: 0it [00:00, ?it/s]"
      ]
     },
     "metadata": {},
     "output_type": "display_data"
    },
    {
     "data": {
      "application/vnd.jupyter.widget-view+json": {
       "model_id": "29ad33ceedcb4fa3913e9133dca1f0dc",
       "version_major": 2,
       "version_minor": 0
      },
      "text/plain": [
       "4:strategy_improvement:   0%|          | 0/441 [00:00<?, ?it/s]"
      ]
     },
     "metadata": {},
     "output_type": "display_data"
    },
    {
     "data": {
      "application/vnd.jupyter.widget-view+json": {
       "model_id": "5f9e5f356a604c749df45d741245b2df",
       "version_major": 2,
       "version_minor": 0
      },
      "text/plain": [
       "5:strategy_evaluation: 0it [00:00, ?it/s]"
      ]
     },
     "metadata": {},
     "output_type": "display_data"
    },
    {
     "data": {
      "application/vnd.jupyter.widget-view+json": {
       "model_id": "c2c4398d67d3488db3d0618eceb15e8b",
       "version_major": 2,
       "version_minor": 0
      },
      "text/plain": [
       "5:strategy_improvement:   0%|          | 0/441 [00:00<?, ?it/s]"
      ]
     },
     "metadata": {},
     "output_type": "display_data"
    }
   ],
   "source": [
    "rental = JackCarRental(first_pickup=PickUpPoint(3, 3, 20, 0), second_pickup=PickUpPoint(4, 2, 20, 0),\n",
    "                       point_to_point_movement_cost=-2, point_to_point_movement_max_cars=5, rent_prize=10)\n",
    "v, pi, history = rental.get_optimal_jack_strategy()"
   ]
  },
  {
   "cell_type": "code",
   "execution_count": 5,
   "metadata": {
    "ExecuteTime": {
     "end_time": "2023-04-09T00:57:46.014575Z",
     "start_time": "2023-04-09T00:57:45.487465Z"
    }
   },
   "outputs": [
    {
     "data": {
      "image/png": "[encoded data removed]",
      "text/plain": [
       "<Figure size 640x480 with 6 Axes>"
      ]
     },
     "metadata": {},
     "output_type": "display_data"
    },
    {
     "data": {
      "image/png": "[encoded data removed]",
      "text/plain": [
       "<Figure size 640x480 with 2 Axes>"
      ]
     },
     "metadata": {},
     "output_type": "display_data"
    }
   ],
   "source": [
    "plot_grid(history)"
   ]
  },
  {
   "cell_type": "code",
   "execution_count": 6,
   "metadata": {
    "ExecuteTime": {
     "end_time": "2023-04-09T01:02:33.020899Z",
     "start_time": "2023-04-09T00:57:46.016656Z"
    }
   },
   "outputs": [
    {
     "data": {
      "application/vnd.jupyter.widget-view+json": {
       "model_id": "346d1edc380a4e6590c30452c87d4b41",
       "version_major": 2,
       "version_minor": 0
      },
      "text/plain": [
       "optimal_jack_strategy: 0it [00:00, ?it/s]"
      ]
     },
     "metadata": {},
     "output_type": "display_data"
    },
    {
     "data": {
      "application/vnd.jupyter.widget-view+json": {
       "model_id": "5e13b5c4c40c44ff8fcab1a31196a48e",
       "version_major": 2,
       "version_minor": 0
      },
      "text/plain": [
       "1:strategy_evaluation: 0it [00:00, ?it/s]"
      ]
     },
     "metadata": {},
     "output_type": "display_data"
    },
    {
     "data": {
      "application/vnd.jupyter.widget-view+json": {
       "model_id": "40f21ae6b7244e2484109e53d15a23da",
       "version_major": 2,
       "version_minor": 0
      },
      "text/plain": [
       "1:strategy_improvement:   0%|          | 0/441 [00:00<?, ?it/s]"
      ]
     },
     "metadata": {},
     "output_type": "display_data"
    },
    {
     "data": {
      "application/vnd.jupyter.widget-view+json": {
       "model_id": "26264b8155b7419cbd5daf0cbae55d48",
       "version_major": 2,
       "version_minor": 0
      },
      "text/plain": [
       "2:strategy_evaluation: 0it [00:00, ?it/s]"
      ]
     },
     "metadata": {},
     "output_type": "display_data"
    },
    {
     "data": {
      "application/vnd.jupyter.widget-view+json": {
       "model_id": "fd152d8f71bf49c580433cadb2afe54d",
       "version_major": 2,
       "version_minor": 0
      },
      "text/plain": [
       "2:strategy_improvement:   0%|          | 0/441 [00:00<?, ?it/s]"
      ]
     },
     "metadata": {},
     "output_type": "display_data"
    },
    {
     "data": {
      "application/vnd.jupyter.widget-view+json": {
       "model_id": "5478fb93b91b4993a01ae25ab57dca06",
       "version_major": 2,
       "version_minor": 0
      },
      "text/plain": [
       "3:strategy_evaluation: 0it [00:00, ?it/s]"
      ]
     },
     "metadata": {},
     "output_type": "display_data"
    },
    {
     "data": {
      "application/vnd.jupyter.widget-view+json": {
       "model_id": "6020e3cb372c49ab82ae9eed78e7ab97",
       "version_major": 2,
       "version_minor": 0
      },
      "text/plain": [
       "3:strategy_improvement:   0%|          | 0/441 [00:00<?, ?it/s]"
      ]
     },
     "metadata": {},
     "output_type": "display_data"
    },
    {
     "data": {
      "application/vnd.jupyter.widget-view+json": {
       "model_id": "84c6232298284bb899105fb09d51751a",
       "version_major": 2,
       "version_minor": 0
      },
      "text/plain": [
       "4:strategy_evaluation: 0it [00:00, ?it/s]"
      ]
     },
     "metadata": {},
     "output_type": "display_data"
    },
    {
     "data": {
      "application/vnd.jupyter.widget-view+json": {
       "model_id": "7e8c1c972d1a4d72b4e0406fbaeafd65",
       "version_major": 2,
       "version_minor": 0
      },
      "text/plain": [
       "4:strategy_improvement:   0%|          | 0/441 [00:00<?, ?it/s]"
      ]
     },
     "metadata": {},
     "output_type": "display_data"
    },
    {
     "data": {
      "application/vnd.jupyter.widget-view+json": {
       "model_id": "d4971cabf71845128e71454bc48c3dc6",
       "version_major": 2,
       "version_minor": 0
      },
      "text/plain": [
       "5:strategy_evaluation: 0it [00:00, ?it/s]"
      ]
     },
     "metadata": {},
     "output_type": "display_data"
    },
    {
     "data": {
      "application/vnd.jupyter.widget-view+json": {
       "model_id": "d63740c27d234ff99e825f99a9ffa4b0",
       "version_major": 2,
       "version_minor": 0
      },
      "text/plain": [
       "5:strategy_improvement:   0%|          | 0/441 [00:00<?, ?it/s]"
      ]
     },
     "metadata": {},
     "output_type": "display_data"
    }
   ],
   "source": [
    "rental2 = JackCarRental(first_pickup=PickUpPoint(3, 3, 20, -0.5), second_pickup=PickUpPoint(4, 2, 20, 0),\n",
    "                       point_to_point_movement_cost=-2, point_to_point_movement_max_cars=5, rent_prize=10)\n",
    "rental2.first_to_second_free_movement = 2\n",
    "v2, pi2, history2 = rental2.get_optimal_jack_strategy()"
   ]
  },
  {
   "cell_type": "code",
   "execution_count": 7,
   "metadata": {
    "ExecuteTime": {
     "end_time": "2023-04-09T01:02:33.576090Z",
     "start_time": "2023-04-09T01:02:33.029220Z"
    }
   },
   "outputs": [
    {
     "data": {
      "image/png": "[encoded data removed]",
      "text/plain": [
       "<Figure size 640x480 with 6 Axes>"
      ]
     },
     "metadata": {},
     "output_type": "display_data"
    },
    {
     "data": {
      "image/png": "[encoded data removed]",
      "text/plain": [
       "<Figure size 640x480 with 2 Axes>"
      ]
     },
     "metadata": {},
     "output_type": "display_data"
    }
   ],
   "source": [
    "plot_grid(history2)"
   ]
  },
  {
   "cell_type": "code",
   "execution_count": 7,
   "metadata": {
    "ExecuteTime": {
     "end_time": "2023-04-09T01:02:33.579548Z",
     "start_time": "2023-04-09T01:02:33.578032Z"
    }
   },
   "outputs": [],
   "source": []
  }
 ],
 "metadata": {
  "kernelspec": {
   "display_name": "Python 3 (ipykernel)",
   "language": "python",
   "name": "python3"
  },
  "language_info": {
   "codemirror_mode": {
    "name": "ipython",
    "version": 3
   },
   "file_extension": ".py",
   "mimetype": "text/x-python",
   "name": "python",
   "nbconvert_exporter": "python",
   "pygments_lexer": "ipython3",
   "version": "3.11.1"
  }
 },
 "nbformat": 4,
 "nbformat_minor": 1
}
